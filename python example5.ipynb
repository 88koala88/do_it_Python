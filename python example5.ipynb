{
 "cells": [
  {
   "cell_type": "markdown",
   "id": "4c17aca2",
   "metadata": {},
   "source": [
    "# 파이썬 실습5"
   ]
  },
  {
   "cell_type": "markdown",
   "id": "1ae9362e",
   "metadata": {},
   "source": [
    "### 1. 다음과 같은 내용을 지닌 파일 test.txt가 있다. 이 파일의 내용 중 'java'라는 문자열을 'python'으로 바꿔서 저장해보자."
   ]
  },
  {
   "cell_type": "code",
   "execution_count": 2,
   "id": "694bccea",
   "metadata": {},
   "outputs": [],
   "source": [
    "f = open('test.txt', 'r')\n",
    "body = f.read()\n",
    "f.close()\n",
    "\n",
    "body = body.replace('java', 'python')\n",
    "\n",
    "f = open('test.txt', 'w')\n",
    "f.write(body)\n",
    "f.close()"
   ]
  },
  {
   "cell_type": "markdown",
   "id": "84abe652",
   "metadata": {},
   "source": [
    "### 2. 람다와 조건부 표현식을 사용하여 자연수가 홀수인지 짝수인지 판별해 주는 함수f를 작성해보자."
   ]
  },
  {
   "cell_type": "code",
   "execution_count": 3,
   "id": "f00e8deb",
   "metadata": {},
   "outputs": [
    {
     "data": {
      "text/plain": [
       "True"
      ]
     },
     "execution_count": 3,
     "metadata": {},
     "output_type": "execute_result"
    }
   ],
   "source": [
    "f = lambda x: True if x %2 == 1 else False\n",
    "f(3)"
   ]
  },
  {
   "cell_type": "markdown",
   "id": "80de4746",
   "metadata": {},
   "source": [
    "### 3. 리스트 A의 요소 중 50 이상의 총합을 while문을 이용하여 구해보자."
   ]
  },
  {
   "cell_type": "code",
   "execution_count": 5,
   "id": "301d3cde",
   "metadata": {},
   "outputs": [
    {
     "name": "stdout",
     "output_type": "stream",
     "text": [
      "481\n"
     ]
    }
   ],
   "source": [
    "A = [20, 55, 67, 82, 45, 33, 90, 87, 100, 25]\n",
    "result = 0\n",
    "while A:\n",
    "    mark = A.pop()\n",
    "    if mark >= 50:\n",
    "        result += mark\n",
    "print(result)"
   ]
  }
 ],
 "metadata": {
  "kernelspec": {
   "display_name": "Python 3 (ipykernel)",
   "language": "python",
   "name": "python3"
  },
  "language_info": {
   "codemirror_mode": {
    "name": "ipython",
    "version": 3
   },
   "file_extension": ".py",
   "mimetype": "text/x-python",
   "name": "python",
   "nbconvert_exporter": "python",
   "pygments_lexer": "ipython3",
   "version": "3.9.13"
  }
 },
 "nbformat": 4,
 "nbformat_minor": 5
}
