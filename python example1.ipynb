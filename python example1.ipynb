{
 "cells": [
  {
   "cell_type": "markdown",
   "id": "972c06db",
   "metadata": {},
   "source": [
    "# 파이썬 예제"
   ]
  },
  {
   "cell_type": "markdown",
   "id": "05a8be44",
   "metadata": {},
   "source": [
    "### 주민번호 연월일 부분과 숫자 부분으로 나누어 출력해보기"
   ]
  },
  {
   "cell_type": "code",
   "execution_count": 1,
   "id": "ecbb4dfc",
   "metadata": {},
   "outputs": [
    {
     "name": "stdout",
     "output_type": "stream",
     "text": [
      "881120\n",
      "106823\n"
     ]
    }
   ],
   "source": [
    "pin = \"881120-106823\"\n",
    "yyyymmdd = pin[:6]\n",
    "num = pin[7:]\n",
    "print(yyyymmdd)\n",
    "print(num)"
   ]
  },
  {
   "cell_type": "markdown",
   "id": "5cc153c8",
   "metadata": {},
   "source": [
    "## 리스트에서 중복된 숫자 제거해 보기"
   ]
  },
  {
   "cell_type": "code",
   "execution_count": 2,
   "id": "d77c7bcf",
   "metadata": {},
   "outputs": [
    {
     "name": "stdout",
     "output_type": "stream",
     "text": [
      "[1, 2, 3, 4, 5]\n"
     ]
    }
   ],
   "source": [
    "a = [1, 1, 1, 2, 2, 3, 3, 3, 4, 4, 5]\n",
    "aSet = set(a)\n",
    "b = list(aSet)\n",
    "print(b)"
   ]
  },
  {
   "cell_type": "markdown",
   "id": "e24e153b",
   "metadata": {},
   "source": [
    "## 딕셔너리 a에서 'B'에 해당되는 값을 추출하고 삭제해보기"
   ]
  },
  {
   "cell_type": "code",
   "execution_count": 3,
   "id": "bd23f607",
   "metadata": {},
   "outputs": [
    {
     "name": "stdout",
     "output_type": "stream",
     "text": [
      "{'A': 90, 'C': 70}\n",
      "80\n"
     ]
    }
   ],
   "source": [
    "a = {'A':90, 'B':80, 'C':70}\n",
    "result = a.pop('B')\n",
    "print(a)\n",
    "print(result)"
   ]
  }
 ],
 "metadata": {
  "kernelspec": {
   "display_name": "Python 3 (ipykernel)",
   "language": "python",
   "name": "python3"
  },
  "language_info": {
   "codemirror_mode": {
    "name": "ipython",
    "version": 3
   },
   "file_extension": ".py",
   "mimetype": "text/x-python",
   "name": "python",
   "nbconvert_exporter": "python",
   "pygments_lexer": "ipython3",
   "version": "3.9.13"
  }
 },
 "nbformat": 4,
 "nbformat_minor": 5
}
