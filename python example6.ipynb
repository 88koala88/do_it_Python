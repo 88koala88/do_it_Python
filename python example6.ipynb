{
 "cells": [
  {
   "cell_type": "markdown",
   "id": "4c17aca2",
   "metadata": {},
   "source": [
    "# 파이썬 실습6\n"
   ]
  },
  {
   "cell_type": "markdown",
   "id": "1ae9362e",
   "metadata": {},
   "source": [
    "### 1. 사용자로부터 다음과 같은 숫자를 입력받아 입력받은 숫자의 총합을 구하는 프로그램을 작성하시오."
   ]
  },
  {
   "cell_type": "code",
   "execution_count": 1,
   "id": "694bccea",
   "metadata": {},
   "outputs": [
    {
     "name": "stdout",
     "output_type": "stream",
     "text": [
      "숫자를 입력하세요: 65,45,2,3,45,8\n",
      "168\n"
     ]
    }
   ],
   "source": [
    "# 숫자 : [65, 45, 2, 3, 45, 8]\n",
    "user_input = input(\"숫자를 입력하세요: \")\n",
    "numbers = user_input.split(\",\")\n",
    "total = 0\n",
    "for n in numbers:\n",
    "    total += int(n)\n",
    "print(total)"
   ]
  },
  {
   "cell_type": "markdown",
   "id": "84abe652",
   "metadata": {},
   "source": [
    "### 2. 사용자로부터 2~9 숫자 중 하나를 입력받아 해당 숫자의 구구단을 한 줄로 출력하는 프로그램을 작성하시오."
   ]
  },
  {
   "cell_type": "code",
   "execution_count": 2,
   "id": "f00e8deb",
   "metadata": {},
   "outputs": [
    {
     "name": "stdout",
     "output_type": "stream",
     "text": [
      "구구단을 출력할 숫자를 입력하세요(2~9):2\n",
      "2 4 6 8 10 12 14 16 18 "
     ]
    }
   ],
   "source": [
    "user_input = input(\"구구단을 출력할 숫자를 입력하세요(2~9):\")\n",
    "gugu = int(user_input)\n",
    "for i in range(1, 10):\n",
    "    print(i*gugu, end= ' ')"
   ]
  }
 ],
 "metadata": {
  "kernelspec": {
   "display_name": "Python 3 (ipykernel)",
   "language": "python",
   "name": "python3"
  },
  "language_info": {
   "codemirror_mode": {
    "name": "ipython",
    "version": 3
   },
   "file_extension": ".py",
   "mimetype": "text/x-python",
   "name": "python",
   "nbconvert_exporter": "python",
   "pygments_lexer": "ipython3",
   "version": "3.9.13"
  }
 },
 "nbformat": 4,
 "nbformat_minor": 5
}
